{
 "cells": [
  {
   "cell_type": "code",
   "execution_count": 1,
   "id": "d8c55f1e",
   "metadata": {},
   "outputs": [],
   "source": [
    "# Let's import the required libraries beforehand\n",
    "\n",
    "import pandas as pd\n",
    "import numpy as np\n",
    "import matplotlib.pyplot as plt\n",
    "import seaborn as sns\n",
    "import math"
   ]
  },
  {
   "cell_type": "markdown",
   "id": "d5d7aac3",
   "metadata": {},
   "source": [
    "## Understanding the Dataset and EDA"
   ]
  },
  {
   "cell_type": "code",
   "execution_count": 2,
   "id": "dda88ae7",
   "metadata": {},
   "outputs": [
    {
     "data": {
      "text/plain": [
       "(41188, 21)"
      ]
     },
     "metadata": {},
     "output_type": "display_data"
    },
    {
     "data": {
      "text/html": [
       "<div>\n",
       "<style scoped>\n",
       "    .dataframe tbody tr th:only-of-type {\n",
       "        vertical-align: middle;\n",
       "    }\n",
       "\n",
       "    .dataframe tbody tr th {\n",
       "        vertical-align: top;\n",
       "    }\n",
       "\n",
       "    .dataframe thead th {\n",
       "        text-align: right;\n",
       "    }\n",
       "</style>\n",
       "<table border=\"1\" class=\"dataframe\">\n",
       "  <thead>\n",
       "    <tr style=\"text-align: right;\">\n",
       "      <th></th>\n",
       "      <th>age</th>\n",
       "      <th>job</th>\n",
       "      <th>marital</th>\n",
       "      <th>education</th>\n",
       "      <th>default</th>\n",
       "      <th>housing</th>\n",
       "      <th>loan</th>\n",
       "      <th>contact</th>\n",
       "      <th>month</th>\n",
       "      <th>day_of_week</th>\n",
       "      <th>...</th>\n",
       "      <th>campaign</th>\n",
       "      <th>pdays</th>\n",
       "      <th>previous</th>\n",
       "      <th>poutcome</th>\n",
       "      <th>emp.var.rate</th>\n",
       "      <th>cons.price.idx</th>\n",
       "      <th>cons.conf.idx</th>\n",
       "      <th>euribor3m</th>\n",
       "      <th>nr.employed</th>\n",
       "      <th>y</th>\n",
       "    </tr>\n",
       "  </thead>\n",
       "  <tbody>\n",
       "    <tr>\n",
       "      <th>0</th>\n",
       "      <td>56.0</td>\n",
       "      <td>housemaid</td>\n",
       "      <td>married</td>\n",
       "      <td>basic.4y</td>\n",
       "      <td>no</td>\n",
       "      <td>no</td>\n",
       "      <td>no</td>\n",
       "      <td>telephone</td>\n",
       "      <td>may</td>\n",
       "      <td>mon</td>\n",
       "      <td>...</td>\n",
       "      <td>1</td>\n",
       "      <td>999</td>\n",
       "      <td>0</td>\n",
       "      <td>nonexistent</td>\n",
       "      <td>1.1</td>\n",
       "      <td>93.994</td>\n",
       "      <td>-36.4</td>\n",
       "      <td>4.857</td>\n",
       "      <td>5191.0</td>\n",
       "      <td>no</td>\n",
       "    </tr>\n",
       "    <tr>\n",
       "      <th>1</th>\n",
       "      <td>57.0</td>\n",
       "      <td>services</td>\n",
       "      <td>married</td>\n",
       "      <td>high.school</td>\n",
       "      <td>unknown</td>\n",
       "      <td>no</td>\n",
       "      <td>no</td>\n",
       "      <td>telephone</td>\n",
       "      <td>may</td>\n",
       "      <td>mon</td>\n",
       "      <td>...</td>\n",
       "      <td>1</td>\n",
       "      <td>999</td>\n",
       "      <td>0</td>\n",
       "      <td>nonexistent</td>\n",
       "      <td>1.1</td>\n",
       "      <td>93.994</td>\n",
       "      <td>-36.4</td>\n",
       "      <td>4.857</td>\n",
       "      <td>5191.0</td>\n",
       "      <td>no</td>\n",
       "    </tr>\n",
       "    <tr>\n",
       "      <th>2</th>\n",
       "      <td>37.0</td>\n",
       "      <td>services</td>\n",
       "      <td>married</td>\n",
       "      <td>high.school</td>\n",
       "      <td>no</td>\n",
       "      <td>yes</td>\n",
       "      <td>no</td>\n",
       "      <td>telephone</td>\n",
       "      <td>may</td>\n",
       "      <td>mon</td>\n",
       "      <td>...</td>\n",
       "      <td>1</td>\n",
       "      <td>999</td>\n",
       "      <td>0</td>\n",
       "      <td>nonexistent</td>\n",
       "      <td>1.1</td>\n",
       "      <td>NaN</td>\n",
       "      <td>-36.4</td>\n",
       "      <td>4.857</td>\n",
       "      <td>5191.0</td>\n",
       "      <td>no</td>\n",
       "    </tr>\n",
       "    <tr>\n",
       "      <th>3</th>\n",
       "      <td>40.0</td>\n",
       "      <td>admin.</td>\n",
       "      <td>married</td>\n",
       "      <td>basic.6y</td>\n",
       "      <td>no</td>\n",
       "      <td>no</td>\n",
       "      <td>no</td>\n",
       "      <td>telephone</td>\n",
       "      <td>may</td>\n",
       "      <td>mon</td>\n",
       "      <td>...</td>\n",
       "      <td>1</td>\n",
       "      <td>999</td>\n",
       "      <td>0</td>\n",
       "      <td>nonexistent</td>\n",
       "      <td>1.1</td>\n",
       "      <td>93.994</td>\n",
       "      <td>-36.4</td>\n",
       "      <td>4.857</td>\n",
       "      <td>5191.0</td>\n",
       "      <td>no</td>\n",
       "    </tr>\n",
       "    <tr>\n",
       "      <th>4</th>\n",
       "      <td>56.0</td>\n",
       "      <td>services</td>\n",
       "      <td>married</td>\n",
       "      <td>high.school</td>\n",
       "      <td>no</td>\n",
       "      <td>no</td>\n",
       "      <td>yes</td>\n",
       "      <td>telephone</td>\n",
       "      <td>may</td>\n",
       "      <td>mon</td>\n",
       "      <td>...</td>\n",
       "      <td>1</td>\n",
       "      <td>999</td>\n",
       "      <td>0</td>\n",
       "      <td>nonexistent</td>\n",
       "      <td>1.1</td>\n",
       "      <td>NaN</td>\n",
       "      <td>-36.4</td>\n",
       "      <td>4.857</td>\n",
       "      <td>5191.0</td>\n",
       "      <td>no</td>\n",
       "    </tr>\n",
       "  </tbody>\n",
       "</table>\n",
       "<p>5 rows × 21 columns</p>\n",
       "</div>"
      ],
      "text/plain": [
       "    age        job  marital    education  default housing loan    contact  \\\n",
       "0  56.0  housemaid  married     basic.4y       no      no   no  telephone   \n",
       "1  57.0   services  married  high.school  unknown      no   no  telephone   \n",
       "2  37.0   services  married  high.school       no     yes   no  telephone   \n",
       "3  40.0     admin.  married     basic.6y       no      no   no  telephone   \n",
       "4  56.0   services  married  high.school       no      no  yes  telephone   \n",
       "\n",
       "  month day_of_week  ...  campaign  pdays  previous     poutcome emp.var.rate  \\\n",
       "0   may         mon  ...         1    999         0  nonexistent          1.1   \n",
       "1   may         mon  ...         1    999         0  nonexistent          1.1   \n",
       "2   may         mon  ...         1    999         0  nonexistent          1.1   \n",
       "3   may         mon  ...         1    999         0  nonexistent          1.1   \n",
       "4   may         mon  ...         1    999         0  nonexistent          1.1   \n",
       "\n",
       "   cons.price.idx  cons.conf.idx  euribor3m  nr.employed   y  \n",
       "0          93.994          -36.4      4.857       5191.0  no  \n",
       "1          93.994          -36.4      4.857       5191.0  no  \n",
       "2             NaN          -36.4      4.857       5191.0  no  \n",
       "3          93.994          -36.4      4.857       5191.0  no  \n",
       "4             NaN          -36.4      4.857       5191.0  no  \n",
       "\n",
       "[5 rows x 21 columns]"
      ]
     },
     "metadata": {},
     "output_type": "display_data"
    }
   ],
   "source": [
    "# load and read the data from the csv file provided\n",
    "df = pd.read_csv('Case Study Data.csv')\n",
    "\n",
    "display(df.shape)\n",
    "display(df.head())"
   ]
  },
  {
   "cell_type": "code",
   "execution_count": 3,
   "id": "c8a8c79e",
   "metadata": {},
   "outputs": [
    {
     "name": "stdout",
     "output_type": "stream",
     "text": [
      "<class 'pandas.core.frame.DataFrame'>\n",
      "RangeIndex: 41188 entries, 0 to 41187\n",
      "Data columns (total 21 columns):\n",
      " #   Column          Non-Null Count  Dtype  \n",
      "---  ------          --------------  -----  \n",
      " 0   age             37444 non-null  float64\n",
      " 1   job             41188 non-null  object \n",
      " 2   marital         41188 non-null  object \n",
      " 3   education       41188 non-null  object \n",
      " 4   default         41188 non-null  object \n",
      " 5   housing         41188 non-null  object \n",
      " 6   loan            41188 non-null  object \n",
      " 7   contact         41188 non-null  object \n",
      " 8   month           41188 non-null  object \n",
      " 9   day_of_week     41188 non-null  object \n",
      " 10  duration        41188 non-null  int64  \n",
      " 11  campaign        41188 non-null  int64  \n",
      " 12  pdays           41188 non-null  int64  \n",
      " 13  previous        41188 non-null  int64  \n",
      " 14  poutcome        41188 non-null  object \n",
      " 15  emp.var.rate    41188 non-null  float64\n",
      " 16  cons.price.idx  36040 non-null  float64\n",
      " 17  cons.conf.idx   41188 non-null  float64\n",
      " 18  euribor3m       41188 non-null  float64\n",
      " 19  nr.employed     41188 non-null  float64\n",
      " 20  y               41188 non-null  object \n",
      "dtypes: float64(6), int64(4), object(11)\n",
      "memory usage: 6.6+ MB\n"
     ]
    }
   ],
   "source": [
    "df.info()"
   ]
  },
  {
   "cell_type": "code",
   "execution_count": 4,
   "id": "632537e2",
   "metadata": {},
   "outputs": [
    {
     "data": {
      "text/plain": [
       "age                 78\n",
       "job                 12\n",
       "marital              4\n",
       "education            8\n",
       "default              3\n",
       "housing              3\n",
       "loan                 3\n",
       "contact              2\n",
       "month               10\n",
       "day_of_week          5\n",
       "duration          1544\n",
       "campaign            42\n",
       "pdays               27\n",
       "previous             8\n",
       "poutcome             3\n",
       "emp.var.rate        10\n",
       "cons.price.idx      26\n",
       "cons.conf.idx       26\n",
       "euribor3m          316\n",
       "nr.employed         11\n",
       "y                    2\n",
       "dtype: int64"
      ]
     },
     "execution_count": 4,
     "metadata": {},
     "output_type": "execute_result"
    }
   ],
   "source": [
    "df.nunique()"
   ]
  },
  {
   "cell_type": "code",
   "execution_count": 5,
   "id": "7080aeae",
   "metadata": {},
   "outputs": [
    {
     "data": {
      "text/plain": [
       "no     0.887346\n",
       "yes    0.112654\n",
       "Name: y, dtype: float64"
      ]
     },
     "execution_count": 5,
     "metadata": {},
     "output_type": "execute_result"
    }
   ],
   "source": [
    "df['y'].value_counts(normalize=True)"
   ]
  },
  {
   "cell_type": "markdown",
   "id": "f6d85e3c",
   "metadata": {},
   "source": [
    "From the above sections, we can understand that the dataset is an equal mix of categorical and numerical data. The binary target variable has 88% negative data and just 12% positive which says that the dataset is a highly skewed one.\n",
    "\n",
    "We have some missing values in two columns 'age' and 'cons.price.idx'"
   ]
  },
  {
   "cell_type": "code",
   "execution_count": 6,
   "id": "e6216c11",
   "metadata": {},
   "outputs": [
    {
     "name": "stdout",
     "output_type": "stream",
     "text": [
      "age               0.090900\n",
      "cons.price.idx    0.124988\n",
      "dtype: float64\n"
     ]
    }
   ],
   "source": [
    "# we have null values in columns 'age', 'cons.price.idx'\n",
    "# the percentage of null values in each of these columns is as follows\n",
    "\n",
    "df_len = len(df.index)\n",
    "print(df[['age','cons.price.idx']].isna().sum()/df_len)"
   ]
  },
  {
   "cell_type": "markdown",
   "id": "eaf99cd3",
   "metadata": {},
   "source": [
    "Since the nulls values are very small in number compared to the total dataframe, we can either remove these rows or replace them with mean/median of respective columns.\n",
    "Let's see how these columns are distributed first"
   ]
  },
  {
   "cell_type": "code",
   "execution_count": 7,
   "id": "b5b24699",
   "metadata": {},
   "outputs": [
    {
     "data": {
      "text/html": [
       "<div>\n",
       "<style scoped>\n",
       "    .dataframe tbody tr th:only-of-type {\n",
       "        vertical-align: middle;\n",
       "    }\n",
       "\n",
       "    .dataframe tbody tr th {\n",
       "        vertical-align: top;\n",
       "    }\n",
       "\n",
       "    .dataframe thead th {\n",
       "        text-align: right;\n",
       "    }\n",
       "</style>\n",
       "<table border=\"1\" class=\"dataframe\">\n",
       "  <thead>\n",
       "    <tr style=\"text-align: right;\">\n",
       "      <th></th>\n",
       "      <th>age</th>\n",
       "      <th>cons.price.idx</th>\n",
       "    </tr>\n",
       "  </thead>\n",
       "  <tbody>\n",
       "    <tr>\n",
       "      <th>count</th>\n",
       "      <td>37444.000000</td>\n",
       "      <td>36040.000000</td>\n",
       "    </tr>\n",
       "    <tr>\n",
       "      <th>mean</th>\n",
       "      <td>39.999947</td>\n",
       "      <td>93.575575</td>\n",
       "    </tr>\n",
       "    <tr>\n",
       "      <th>std</th>\n",
       "      <td>10.414908</td>\n",
       "      <td>0.579216</td>\n",
       "    </tr>\n",
       "    <tr>\n",
       "      <th>min</th>\n",
       "      <td>17.000000</td>\n",
       "      <td>92.201000</td>\n",
       "    </tr>\n",
       "    <tr>\n",
       "      <th>25%</th>\n",
       "      <td>32.000000</td>\n",
       "      <td>93.075000</td>\n",
       "    </tr>\n",
       "    <tr>\n",
       "      <th>50%</th>\n",
       "      <td>38.000000</td>\n",
       "      <td>93.749000</td>\n",
       "    </tr>\n",
       "    <tr>\n",
       "      <th>75%</th>\n",
       "      <td>47.000000</td>\n",
       "      <td>93.994000</td>\n",
       "    </tr>\n",
       "    <tr>\n",
       "      <th>max</th>\n",
       "      <td>98.000000</td>\n",
       "      <td>94.767000</td>\n",
       "    </tr>\n",
       "  </tbody>\n",
       "</table>\n",
       "</div>"
      ],
      "text/plain": [
       "                age  cons.price.idx\n",
       "count  37444.000000    36040.000000\n",
       "mean      39.999947       93.575575\n",
       "std       10.414908        0.579216\n",
       "min       17.000000       92.201000\n",
       "25%       32.000000       93.075000\n",
       "50%       38.000000       93.749000\n",
       "75%       47.000000       93.994000\n",
       "max       98.000000       94.767000"
      ]
     },
     "execution_count": 7,
     "metadata": {},
     "output_type": "execute_result"
    }
   ],
   "source": [
    "df[['age','cons.price.idx']].describe()"
   ]
  },
  {
   "cell_type": "code",
   "execution_count": 8,
   "id": "dae24cee",
   "metadata": {},
   "outputs": [
    {
     "data": {
      "text/plain": [
       "<AxesSubplot:>"
      ]
     },
     "execution_count": 8,
     "metadata": {},
     "output_type": "execute_result"
    },
    {
     "data": {
      "image/png": "[encoded data removed]",
      "text/plain": [
       "<Figure size 1440x720 with 1 Axes>"
      ]
     },
     "metadata": {
      "needs_background": "light"
     },
     "output_type": "display_data"
    }
   ],
   "source": [
    "plt.figure(figsize = (20,10))\n",
    "df[['age','cons.price.idx']].boxplot()"
   ]
  },
  {
   "cell_type": "code",
   "execution_count": 9,
   "id": "a0e98ec2",
   "metadata": {},
   "outputs": [
    {
     "name": "stdout",
     "output_type": "stream",
     "text": [
      "missing_age_values % =  0.11805555555555555\n",
      "missing_price_values % =  0.1114996114996115\n"
     ]
    }
   ],
   "source": [
    "missing_age_count = len(df[df['age'].isna()])\n",
    "missing_age_values = (df[df['age'].isna() == True]['y'] == 'yes').sum()/missing_age_count\n",
    "print('missing_age_values % = ',missing_age_values)\n",
    "\n",
    "missing_price_count = len(df[df['cons.price.idx'].isna()])\n",
    "missing_price_values = (df[df['cons.price.idx'].isna() == True]['y'] == 'yes').sum()/missing_price_count\n",
    "print('missing_price_values % = ',missing_price_values)"
   ]
  },
  {
   "cell_type": "markdown",
   "id": "4839f53f",
   "metadata": {},
   "source": [
    "The positive spread('yes') of our target variable 'y' in original dataframe(11.26%) is almost same\n",
    "as missing values. \n",
    "\n",
    "Since the mean and median of both the features are close, we can replace the nan values with either of them instead of removing those nan rows.\n",
    "\n",
    "Additionally, we will also remove 'duration' column as it is direclty related to the target variable"
   ]
  },
  {
   "cell_type": "code",
   "execution_count": 10,
   "id": "2f720181",
   "metadata": {},
   "outputs": [],
   "source": [
    "df['age'] = df['age'].fillna(df['age'].median())\n",
    "df['cons.price.idx'] = df['cons.price.idx'].fillna(df['cons.price.idx'].median())"
   ]
  },
  {
   "cell_type": "markdown",
   "id": "dc48c8d5",
   "metadata": {},
   "source": [
    "Now, let's convert the target variable into numeric type"
   ]
  },
  {
   "cell_type": "code",
   "execution_count": 11,
   "id": "80d33eb5",
   "metadata": {
    "scrolled": true
   },
   "outputs": [
    {
     "data": {
      "text/plain": [
       "(41188, 20)"
      ]
     },
     "execution_count": 11,
     "metadata": {},
     "output_type": "execute_result"
    }
   ],
   "source": [
    "#df2 = df.dropna()\n",
    "df = df.drop('duration', axis=1)\n",
    "df['y'] = df['y'].replace({'yes':1, 'no':0})\n",
    "df.shape"
   ]
  },
  {
   "cell_type": "code",
   "execution_count": 12,
   "id": "8a85ee48",
   "metadata": {},
   "outputs": [
    {
     "name": "stdout",
     "output_type": "stream",
     "text": [
      "['job', 'marital', 'education', 'default', 'housing', 'loan', 'contact', 'month', 'day_of_week', 'poutcome']\n",
      "['age', 'campaign', 'pdays', 'previous', 'emp.var.rate', 'cons.price.idx', 'cons.conf.idx', 'euribor3m', 'nr.employed']\n"
     ]
    }
   ],
   "source": [
    "categorical_columns = list(df.select_dtypes('object').columns)\n",
    "print(categorical_columns)\n",
    "\n",
    "numerical_columns = list(df.select_dtypes(['int64','float64']).columns)\n",
    "numerical_columns.remove('y')\n",
    "print(numerical_columns)"
   ]
  },
  {
   "cell_type": "markdown",
   "id": "c09717de",
   "metadata": {},
   "source": [
    "### Bivariate Analysis of Numerical Columns"
   ]
  },
  {
   "cell_type": "code",
   "execution_count": 13,
   "id": "552443b0",
   "metadata": {},
   "outputs": [
    {
     "data": {
      "image/png": "[encoded data removed]",
      "text/plain": [
       "<Figure size 432x288 with 1 Axes>"
      ]
     },
     "metadata": {
      "needs_background": "light"
     },
     "output_type": "display_data"
    },
    {
     "data": {
      "image/png": "[encoded data removed]",
      "text/plain": [
       "<Figure size 1080x360 with 1 Axes>"
      ]
     },
     "metadata": {
      "needs_background": "light"
     },
     "output_type": "display_data"
    }
   ],
   "source": [
    "df['age'].hist()\n",
    "plt.figure(figsize=(15,5))\n",
    "plt.hist([df[df['y'] == 0]['age'],df[df['y'] == 1]['age']], label=['age when y=0','age when y=1'])\n",
    "plt.legend(loc='upper right')\n",
    "plt.show()"
   ]
  },
  {
   "cell_type": "code",
   "execution_count": 14,
   "id": "32925c67",
   "metadata": {},
   "outputs": [
    {
     "data": {
      "image/png": "[encoded data removed]",
      "text/plain": [
       "<Figure size 432x288 with 1 Axes>"
      ]
     },
     "metadata": {
      "needs_background": "light"
     },
     "output_type": "display_data"
    }
   ],
   "source": [
    "df['campaign'].hist()\n",
    "plt.hist([df[df['y'] == 0]['campaign'],df[df['y'] == 1]['campaign']], label=['campaign when y=0','campaign when y=1'])\n",
    "plt.legend(loc='upper right')\n",
    "plt.show()"
   ]
  },
  {
   "cell_type": "code",
   "execution_count": 15,
   "id": "23091094",
   "metadata": {},
   "outputs": [
    {
     "data": {
      "image/png": "[encoded data removed]",
      "text/plain": [
       "<Figure size 432x288 with 1 Axes>"
      ]
     },
     "metadata": {
      "needs_background": "light"
     },
     "output_type": "display_data"
    }
   ],
   "source": [
    "df['pdays'].hist()\n",
    "plt.hist([df[df['y'] == 0]['pdays'],df[df['y'] == 1]['pdays']], label=['pdays when y=0','pdays when y=1'])\n",
    "plt.legend(loc='upper left')\n",
    "plt.show()"
   ]
  },
  {
   "cell_type": "code",
   "execution_count": 16,
   "id": "3faf90ae",
   "metadata": {
    "scrolled": true
   },
   "outputs": [
    {
     "data": {
      "image/png": "[encoded data removed]",
      "text/plain": [
       "<Figure size 432x288 with 1 Axes>"
      ]
     },
     "metadata": {
      "needs_background": "light"
     },
     "output_type": "display_data"
    }
   ],
   "source": [
    "df['previous'].hist()\n",
    "plt.hist([df[df['y'] == 0]['previous'],df[df['y'] == 1]['previous']], label=['previous when y=0','previous when y=1'])\n",
    "plt.legend(loc='upper right')\n",
    "plt.show()"
   ]
  },
  {
   "cell_type": "code",
   "execution_count": 17,
   "id": "12af7592",
   "metadata": {},
   "outputs": [
    {
     "data": {
      "image/png": "[encoded data removed]",
      "text/plain": [
       "<Figure size 432x288 with 1 Axes>"
      ]
     },
     "metadata": {
      "needs_background": "light"
     },
     "output_type": "display_data"
    }
   ],
   "source": [
    "df['emp.var.rate'].hist()\n",
    "plt.hist([df[df['y'] == 0]['emp.var.rate'],df[df['y'] == 1]['emp.var.rate']], label=['emp.var.rate when y=0','premp.var.rate when y=1'])\n",
    "plt.legend(loc='upper left')\n",
    "plt.show()"
   ]
  },
  {
   "cell_type": "code",
   "execution_count": 18,
   "id": "9d351f66",
   "metadata": {},
   "outputs": [
    {
     "data": {
      "image/png": "[encoded data removed]",
      "text/plain": [
       "<Figure size 432x288 with 1 Axes>"
      ]
     },
     "metadata": {
      "needs_background": "light"
     },
     "output_type": "display_data"
    }
   ],
   "source": [
    "df['cons.price.idx'].hist()\n",
    "plt.hist([df[df['y'] == 0]['cons.price.idx'],df[df['y'] == 1]['cons.price.idx']], label=['cons.price.idx when y=0','cons.price.idx when y=1'])\n",
    "plt.legend(loc='upper left')\n",
    "plt.show()"
   ]
  },
  {
   "cell_type": "code",
   "execution_count": 19,
   "id": "1245cf34",
   "metadata": {},
   "outputs": [
    {
     "data": {
      "image/png": "[encoded data removed]",
      "text/plain": [
       "<Figure size 432x288 with 1 Axes>"
      ]
     },
     "metadata": {
      "needs_background": "light"
     },
     "output_type": "display_data"
    }
   ],
   "source": [
    "df['cons.conf.idx'].hist()\n",
    "plt.hist([df[df['y'] == 0]['cons.conf.idx'],df[df['y'] == 1]['cons.conf.idx']], label=['idx when y=0','idx when y=1'])\n",
    "plt.legend(loc='upper right')\n",
    "plt.show()"
   ]
  },
  {
   "cell_type": "code",
   "execution_count": 20,
   "id": "795eccb6",
   "metadata": {},
   "outputs": [
    {
     "data": {
      "image/png": "[encoded data removed]",
      "text/plain": [
       "<Figure size 432x288 with 1 Axes>"
      ]
     },
     "metadata": {
      "needs_background": "light"
     },
     "output_type": "display_data"
    }
   ],
   "source": [
    "df['euribor3m'].hist()\n",
    "plt.hist([df[df['y'] == 0]['euribor3m'],df[df['y'] == 1]['euribor3m']], label=['euribor3m when y=0','euribor3m when y=1'])\n",
    "plt.legend(loc='upper left')\n",
    "plt.show()"
   ]
  },
  {
   "cell_type": "code",
   "execution_count": 21,
   "id": "6a1131ee",
   "metadata": {},
   "outputs": [
    {
     "data": {
      "image/png": "[encoded data removed]",
      "text/plain": [
       "<Figure size 432x288 with 1 Axes>"
      ]
     },
     "metadata": {
      "needs_background": "light"
     },
     "output_type": "display_data"
    }
   ],
   "source": [
    "df['nr.employed'].hist()\n",
    "plt.hist([df[df['y'] == 0]['nr.employed'],df[df['y'] == 1]['nr.employed']], label=['nr.employed when y=0','nr.employed when y=1'])\n",
    "plt.legend(loc='upper left')\n",
    "plt.show()"
   ]
  },
  {
   "cell_type": "markdown",
   "id": "a76af5a7",
   "metadata": {},
   "source": [
    "### Bivariate Analysis of Categorical Columns"
   ]
  },
  {
   "cell_type": "code",
   "execution_count": 22,
   "id": "694aaeda",
   "metadata": {},
   "outputs": [
    {
     "data": {
      "image/png": "[encoded data removed]",
      "text/plain": [
       "<Figure size 1080x360 with 1 Axes>"
      ]
     },
     "metadata": {
      "needs_background": "light"
     },
     "output_type": "display_data"
    },
    {
     "data": {
      "image/png": "[encoded data removed]",
      "text/plain": [
       "<Figure size 1080x360 with 1 Axes>"
      ]
     },
     "metadata": {
      "needs_background": "light"
     },
     "output_type": "display_data"
    },
    {
     "data": {
      "image/png": "[encoded data removed]",
      "text/plain": [
       "<Figure size 1080x360 with 1 Axes>"
      ]
     },
     "metadata": {
      "needs_background": "light"
     },
     "output_type": "display_data"
    },
    {
     "data": {
      "image/png": "[encoded data removed]",
      "text/plain": [
       "<Figure size 1080x360 with 1 Axes>"
      ]
     },
     "metadata": {
      "needs_background": "light"
     },
     "output_type": "display_data"
    },
    {
     "data": {
      "image/png": "[encoded data removed]",
      "text/plain": [
       "<Figure size 1080x360 with 1 Axes>"
      ]
     },
     "metadata": {
      "needs_background": "light"
     },
     "output_type": "display_data"
    },
    {
     "data": {
      "image/png": "[encoded data removed]",
      "text/plain": [
       "<Figure size 1080x360 with 1 Axes>"
      ]
     },
     "metadata": {
      "needs_background": "light"
     },
     "output_type": "display_data"
    },
    {
     "data": {
      "image/png": "[encoded data removed]",
      "text/plain": [
       "<Figure size 1080x360 with 1 Axes>"
      ]
     },
     "metadata": {
      "needs_background": "light"
     },
     "output_type": "display_data"
    },
    {
     "data": {
      "image/png": "[encoded data removed]",
      "text/plain": [
       "<Figure size 1080x360 with 1 Axes>"
      ]
     },
     "metadata": {
      "needs_background": "light"
     },
     "output_type": "display_data"
    },
    {
     "data": {
      "image/png": "[encoded data removed]",
      "text/plain": [
       "<Figure size 1080x360 with 1 Axes>"
      ]
     },
     "metadata": {
      "needs_background": "light"
     },
     "output_type": "display_data"
    },
    {
     "data": {
      "image/png": "[encoded data removed]",
      "text/plain": [
       "<Figure size 1080x360 with 1 Axes>"
      ]
     },
     "metadata": {
      "needs_background": "light"
     },
     "output_type": "display_data"
    }
   ],
   "source": [
    "for i in categorical_columns:\n",
    "    plt.figure(figsize=(15,5))\n",
    "    sns.countplot(x =i, hue='y',data = df,order = df[i].value_counts().index) #individual bars sorted acc to frequency and then plotted"
   ]
  },
  {
   "cell_type": "markdown",
   "id": "6d279c9b",
   "metadata": {},
   "source": []
  },
  {
   "cell_type": "markdown",
   "id": "79a409ac",
   "metadata": {},
   "source": [
    "### Observations from the EDA"
   ]
  },
  {
   "cell_type": "markdown",
   "id": "f1ccfe77",
   "metadata": {},
   "source": [
    "From the numerical features, we can observe the following points:\n",
    "1. Even though the dataset is dominated by age groups 30-50 years, the proportion of subscription is higher in people with age > 50. Since the age has bigger range, we can bin the age into 3-4 groups and replace the current entries with mean/median of the corresponding group.\n",
    "2. The proportion of subscription is higher when the 'euribor3m' rate is lower(<3)\n",
    "3. The columns 'campaign' and 'pdays' are highly skewed and hence no inference can be made. 'pdays' feature can be converted into binary since the 999 is dominant(user not contacted) with over 95% entries. So we will replace the entries as 0(if 999) and 1(if not 999)\n",
    "4. The number of subscriptions remains almost same across different values of cons.conf.idx and cons.price.idx\n",
    "\n",
    "\n",
    "From the Categorical features, we can observe the following points:\n",
    "\n",
    "1. Even though the dataset is dominated by married people, the proportion of subscription is marginally higher in singles than married people.\n",
    "2. When it comes to loans, proportion of subscriptions is same for people with/without a housing loan. However, it is not the same with personal loan. People having personal loan tend to have more interest towards subscriptions.\n",
    "3. Days of week is distributed similarly for all values for both y=0 and y=1. So it is not useful to keep this parameter for modelling. \n",
    "4. Retired people and students have more proportions of subscriptions compared to other jobs. However their data is not as much as other professions."
   ]
  },
  {
   "cell_type": "code",
   "execution_count": 23,
   "id": "8d5a4b30",
   "metadata": {},
   "outputs": [
    {
     "data": {
      "text/html": [
       "<div>\n",
       "<style scoped>\n",
       "    .dataframe tbody tr th:only-of-type {\n",
       "        vertical-align: middle;\n",
       "    }\n",
       "\n",
       "    .dataframe tbody tr th {\n",
       "        vertical-align: top;\n",
       "    }\n",
       "\n",
       "    .dataframe thead th {\n",
       "        text-align: right;\n",
       "    }\n",
       "</style>\n",
       "<table border=\"1\" class=\"dataframe\">\n",
       "  <thead>\n",
       "    <tr style=\"text-align: right;\">\n",
       "      <th></th>\n",
       "      <th>age</th>\n",
       "      <th>job</th>\n",
       "      <th>marital</th>\n",
       "      <th>education</th>\n",
       "      <th>default</th>\n",
       "      <th>housing</th>\n",
       "      <th>loan</th>\n",
       "      <th>contact</th>\n",
       "      <th>month</th>\n",
       "      <th>campaign</th>\n",
       "      <th>pdays</th>\n",
       "      <th>previous</th>\n",
       "      <th>poutcome</th>\n",
       "      <th>emp.var.rate</th>\n",
       "      <th>cons.price.idx</th>\n",
       "      <th>cons.conf.idx</th>\n",
       "      <th>euribor3m</th>\n",
       "      <th>nr.employed</th>\n",
       "      <th>y</th>\n",
       "    </tr>\n",
       "  </thead>\n",
       "  <tbody>\n",
       "    <tr>\n",
       "      <th>0</th>\n",
       "      <td>56.0</td>\n",
       "      <td>housemaid</td>\n",
       "      <td>married</td>\n",
       "      <td>basic.4y</td>\n",
       "      <td>no</td>\n",
       "      <td>no</td>\n",
       "      <td>no</td>\n",
       "      <td>telephone</td>\n",
       "      <td>may</td>\n",
       "      <td>1</td>\n",
       "      <td>999</td>\n",
       "      <td>0</td>\n",
       "      <td>nonexistent</td>\n",
       "      <td>1.1</td>\n",
       "      <td>93.994</td>\n",
       "      <td>-36.4</td>\n",
       "      <td>4.857</td>\n",
       "      <td>5191.0</td>\n",
       "      <td>0</td>\n",
       "    </tr>\n",
       "    <tr>\n",
       "      <th>1</th>\n",
       "      <td>57.0</td>\n",
       "      <td>services</td>\n",
       "      <td>married</td>\n",
       "      <td>high.school</td>\n",
       "      <td>unknown</td>\n",
       "      <td>no</td>\n",
       "      <td>no</td>\n",
       "      <td>telephone</td>\n",
       "      <td>may</td>\n",
       "      <td>1</td>\n",
       "      <td>999</td>\n",
       "      <td>0</td>\n",
       "      <td>nonexistent</td>\n",
       "      <td>1.1</td>\n",
       "      <td>93.994</td>\n",
       "      <td>-36.4</td>\n",
       "      <td>4.857</td>\n",
       "      <td>5191.0</td>\n",
       "      <td>0</td>\n",
       "    </tr>\n",
       "    <tr>\n",
       "      <th>2</th>\n",
       "      <td>37.0</td>\n",
       "      <td>services</td>\n",
       "      <td>married</td>\n",
       "      <td>high.school</td>\n",
       "      <td>no</td>\n",
       "      <td>yes</td>\n",
       "      <td>no</td>\n",
       "      <td>telephone</td>\n",
       "      <td>may</td>\n",
       "      <td>1</td>\n",
       "      <td>999</td>\n",
       "      <td>0</td>\n",
       "      <td>nonexistent</td>\n",
       "      <td>1.1</td>\n",
       "      <td>93.749</td>\n",
       "      <td>-36.4</td>\n",
       "      <td>4.857</td>\n",
       "      <td>5191.0</td>\n",
       "      <td>0</td>\n",
       "    </tr>\n",
       "    <tr>\n",
       "      <th>3</th>\n",
       "      <td>40.0</td>\n",
       "      <td>admin.</td>\n",
       "      <td>married</td>\n",
       "      <td>basic.6y</td>\n",
       "      <td>no</td>\n",
       "      <td>no</td>\n",
       "      <td>no</td>\n",
       "      <td>telephone</td>\n",
       "      <td>may</td>\n",
       "      <td>1</td>\n",
       "      <td>999</td>\n",
       "      <td>0</td>\n",
       "      <td>nonexistent</td>\n",
       "      <td>1.1</td>\n",
       "      <td>93.994</td>\n",
       "      <td>-36.4</td>\n",
       "      <td>4.857</td>\n",
       "      <td>5191.0</td>\n",
       "      <td>0</td>\n",
       "    </tr>\n",
       "    <tr>\n",
       "      <th>4</th>\n",
       "      <td>56.0</td>\n",
       "      <td>services</td>\n",
       "      <td>married</td>\n",
       "      <td>high.school</td>\n",
       "      <td>no</td>\n",
       "      <td>no</td>\n",
       "      <td>yes</td>\n",
       "      <td>telephone</td>\n",
       "      <td>may</td>\n",
       "      <td>1</td>\n",
       "      <td>999</td>\n",
       "      <td>0</td>\n",
       "      <td>nonexistent</td>\n",
       "      <td>1.1</td>\n",
       "      <td>93.749</td>\n",
       "      <td>-36.4</td>\n",
       "      <td>4.857</td>\n",
       "      <td>5191.0</td>\n",
       "      <td>0</td>\n",
       "    </tr>\n",
       "  </tbody>\n",
       "</table>\n",
       "</div>"
      ],
      "text/plain": [
       "    age        job  marital    education  default housing loan    contact  \\\n",
       "0  56.0  housemaid  married     basic.4y       no      no   no  telephone   \n",
       "1  57.0   services  married  high.school  unknown      no   no  telephone   \n",
       "2  37.0   services  married  high.school       no     yes   no  telephone   \n",
       "3  40.0     admin.  married     basic.6y       no      no   no  telephone   \n",
       "4  56.0   services  married  high.school       no      no  yes  telephone   \n",
       "\n",
       "  month  campaign  pdays  previous     poutcome  emp.var.rate  cons.price.idx  \\\n",
       "0   may         1    999         0  nonexistent           1.1          93.994   \n",
       "1   may         1    999         0  nonexistent           1.1          93.994   \n",
       "2   may         1    999         0  nonexistent           1.1          93.749   \n",
       "3   may         1    999         0  nonexistent           1.1          93.994   \n",
       "4   may         1    999         0  nonexistent           1.1          93.749   \n",
       "\n",
       "   cons.conf.idx  euribor3m  nr.employed  y  \n",
       "0          -36.4      4.857       5191.0  0  \n",
       "1          -36.4      4.857       5191.0  0  \n",
       "2          -36.4      4.857       5191.0  0  \n",
       "3          -36.4      4.857       5191.0  0  \n",
       "4          -36.4      4.857       5191.0  0  "
      ]
     },
     "execution_count": 23,
     "metadata": {},
     "output_type": "execute_result"
    }
   ],
   "source": [
    "# removing days of week and contact since they don't contribute to the \n",
    "\n",
    "df2 = df.copy()\n",
    "df2 = df2.drop(['day_of_week'],axis=1)\n",
    "#categorical_columns.remove('contact')\n",
    "#categorical_columns.remove('day_of_week')\n",
    "df2.head()"
   ]
  },
  {
   "cell_type": "code",
   "execution_count": 24,
   "id": "e501e9a1",
   "metadata": {},
   "outputs": [
    {
     "data": {
      "text/plain": [
       "<AxesSubplot:>"
      ]
     },
     "execution_count": 24,
     "metadata": {},
     "output_type": "execute_result"
    },
    {
     "data": {
      "image/png": "[encoded data removed]",
      "text/plain": [
       "<Figure size 432x288 with 1 Axes>"
      ]
     },
     "metadata": {
      "needs_background": "light"
     },
     "output_type": "display_data"
    }
   ],
   "source": [
    "# converting age range variable into buckets of 0-33, 33-46, >46(based on the quartile distribution) \n",
    "first_quartile_mean = df2[(df2['age'] < 33)]['age'].mean()\n",
    "second_3rd_quartile_mean = df2[(df2['age'] > 33) & (df2['age'] < 46)]['age'].mean()\n",
    "fourth_quartile_mean = df2[(df2['age'] > 46)]['age'].mean()\n",
    "\n",
    "def convertAgeIntoInt(data):\n",
    "    if data < 33:\n",
    "        return first_quartile_mean\n",
    "    elif data >=33 and data < 46:\n",
    "        return second_3rd_quartile_mean\n",
    "    elif data >=46:\n",
    "        return fourth_quartile_mean\n",
    "\n",
    "df2['age'] = df2['age'].apply(convertAgeIntoInt)\n",
    "df2['age'].hist()\n"
   ]
  },
  {
   "cell_type": "code",
   "execution_count": 25,
   "id": "8bf4e442",
   "metadata": {},
   "outputs": [
    {
     "data": {
      "text/plain": [
       "<AxesSubplot:>"
      ]
     },
     "execution_count": 25,
     "metadata": {},
     "output_type": "execute_result"
    },
    {
     "data": {
      "image/png": "[encoded data removed]",
      "text/plain": [
       "<Figure size 432x288 with 1 Axes>"
      ]
     },
     "metadata": {
      "needs_background": "light"
     },
     "output_type": "display_data"
    }
   ],
   "source": [
    "# converting 'pdays' range variable into binary\n",
    "def convertPdaysIntoInt(data):\n",
    "    if data == 999:\n",
    "        return 0\n",
    "    else:\n",
    "        return 1\n",
    "\n",
    "df2['pdays'] = df2['pdays'].apply(convertPdaysIntoInt)\n",
    "df2['pdays'].hist()"
   ]
  },
  {
   "cell_type": "code",
   "execution_count": null,
   "id": "513d0d44",
   "metadata": {},
   "outputs": [],
   "source": []
  },
  {
   "cell_type": "markdown",
   "id": "43071223",
   "metadata": {},
   "source": [
    "Since we have multiple categorical variables, we will need to convert it into numerical data for modelling purposes. We will use\n",
    "one hot coding technique to convert these features."
   ]
  },
  {
   "cell_type": "markdown",
   "id": "d9d77629",
   "metadata": {},
   "source": [
    "### One Hot Coding for Categorical variables"
   ]
  },
  {
   "cell_type": "code",
   "execution_count": 26,
   "id": "4443620d",
   "metadata": {},
   "outputs": [
    {
     "data": {
      "text/html": [
       "<div>\n",
       "<style scoped>\n",
       "    .dataframe tbody tr th:only-of-type {\n",
       "        vertical-align: middle;\n",
       "    }\n",
       "\n",
       "    .dataframe tbody tr th {\n",
       "        vertical-align: top;\n",
       "    }\n",
       "\n",
       "    .dataframe thead th {\n",
       "        text-align: right;\n",
       "    }\n",
       "</style>\n",
       "<table border=\"1\" class=\"dataframe\">\n",
       "  <thead>\n",
       "    <tr style=\"text-align: right;\">\n",
       "      <th></th>\n",
       "      <th>age</th>\n",
       "      <th>campaign</th>\n",
       "      <th>pdays</th>\n",
       "      <th>previous</th>\n",
       "      <th>emp.var.rate</th>\n",
       "      <th>cons.price.idx</th>\n",
       "      <th>cons.conf.idx</th>\n",
       "      <th>euribor3m</th>\n",
       "      <th>nr.employed</th>\n",
       "      <th>y</th>\n",
       "      <th>...</th>\n",
       "      <th>month_jul</th>\n",
       "      <th>month_jun</th>\n",
       "      <th>month_mar</th>\n",
       "      <th>month_may</th>\n",
       "      <th>month_nov</th>\n",
       "      <th>month_oct</th>\n",
       "      <th>month_sep</th>\n",
       "      <th>poutcome_failure</th>\n",
       "      <th>poutcome_nonexistent</th>\n",
       "      <th>poutcome_success</th>\n",
       "    </tr>\n",
       "  </thead>\n",
       "  <tbody>\n",
       "    <tr>\n",
       "      <th>0</th>\n",
       "      <td>54.079514</td>\n",
       "      <td>1</td>\n",
       "      <td>0</td>\n",
       "      <td>0</td>\n",
       "      <td>1.1</td>\n",
       "      <td>93.994</td>\n",
       "      <td>-36.4</td>\n",
       "      <td>4.857</td>\n",
       "      <td>5191.0</td>\n",
       "      <td>0</td>\n",
       "      <td>...</td>\n",
       "      <td>0</td>\n",
       "      <td>0</td>\n",
       "      <td>0</td>\n",
       "      <td>1</td>\n",
       "      <td>0</td>\n",
       "      <td>0</td>\n",
       "      <td>0</td>\n",
       "      <td>0</td>\n",
       "      <td>1</td>\n",
       "      <td>0</td>\n",
       "    </tr>\n",
       "    <tr>\n",
       "      <th>1</th>\n",
       "      <td>54.079514</td>\n",
       "      <td>1</td>\n",
       "      <td>0</td>\n",
       "      <td>0</td>\n",
       "      <td>1.1</td>\n",
       "      <td>93.994</td>\n",
       "      <td>-36.4</td>\n",
       "      <td>4.857</td>\n",
       "      <td>5191.0</td>\n",
       "      <td>0</td>\n",
       "      <td>...</td>\n",
       "      <td>0</td>\n",
       "      <td>0</td>\n",
       "      <td>0</td>\n",
       "      <td>1</td>\n",
       "      <td>0</td>\n",
       "      <td>0</td>\n",
       "      <td>0</td>\n",
       "      <td>0</td>\n",
       "      <td>1</td>\n",
       "      <td>0</td>\n",
       "    </tr>\n",
       "    <tr>\n",
       "      <th>2</th>\n",
       "      <td>38.677152</td>\n",
       "      <td>1</td>\n",
       "      <td>0</td>\n",
       "      <td>0</td>\n",
       "      <td>1.1</td>\n",
       "      <td>93.749</td>\n",
       "      <td>-36.4</td>\n",
       "      <td>4.857</td>\n",
       "      <td>5191.0</td>\n",
       "      <td>0</td>\n",
       "      <td>...</td>\n",
       "      <td>0</td>\n",
       "      <td>0</td>\n",
       "      <td>0</td>\n",
       "      <td>1</td>\n",
       "      <td>0</td>\n",
       "      <td>0</td>\n",
       "      <td>0</td>\n",
       "      <td>0</td>\n",
       "      <td>1</td>\n",
       "      <td>0</td>\n",
       "    </tr>\n",
       "    <tr>\n",
       "      <th>3</th>\n",
       "      <td>38.677152</td>\n",
       "      <td>1</td>\n",
       "      <td>0</td>\n",
       "      <td>0</td>\n",
       "      <td>1.1</td>\n",
       "      <td>93.994</td>\n",
       "      <td>-36.4</td>\n",
       "      <td>4.857</td>\n",
       "      <td>5191.0</td>\n",
       "      <td>0</td>\n",
       "      <td>...</td>\n",
       "      <td>0</td>\n",
       "      <td>0</td>\n",
       "      <td>0</td>\n",
       "      <td>1</td>\n",
       "      <td>0</td>\n",
       "      <td>0</td>\n",
       "      <td>0</td>\n",
       "      <td>0</td>\n",
       "      <td>1</td>\n",
       "      <td>0</td>\n",
       "    </tr>\n",
       "    <tr>\n",
       "      <th>4</th>\n",
       "      <td>54.079514</td>\n",
       "      <td>1</td>\n",
       "      <td>0</td>\n",
       "      <td>0</td>\n",
       "      <td>1.1</td>\n",
       "      <td>93.749</td>\n",
       "      <td>-36.4</td>\n",
       "      <td>4.857</td>\n",
       "      <td>5191.0</td>\n",
       "      <td>0</td>\n",
       "      <td>...</td>\n",
       "      <td>0</td>\n",
       "      <td>0</td>\n",
       "      <td>0</td>\n",
       "      <td>1</td>\n",
       "      <td>0</td>\n",
       "      <td>0</td>\n",
       "      <td>0</td>\n",
       "      <td>0</td>\n",
       "      <td>1</td>\n",
       "      <td>0</td>\n",
       "    </tr>\n",
       "  </tbody>\n",
       "</table>\n",
       "<p>5 rows × 58 columns</p>\n",
       "</div>"
      ],
      "text/plain": [
       "         age  campaign  pdays  previous  emp.var.rate  cons.price.idx  \\\n",
       "0  54.079514         1      0         0           1.1          93.994   \n",
       "1  54.079514         1      0         0           1.1          93.994   \n",
       "2  38.677152         1      0         0           1.1          93.749   \n",
       "3  38.677152         1      0         0           1.1          93.994   \n",
       "4  54.079514         1      0         0           1.1          93.749   \n",
       "\n",
       "   cons.conf.idx  euribor3m  nr.employed  y  ...  month_jul  month_jun  \\\n",
       "0          -36.4      4.857       5191.0  0  ...          0          0   \n",
       "1          -36.4      4.857       5191.0  0  ...          0          0   \n",
       "2          -36.4      4.857       5191.0  0  ...          0          0   \n",
       "3          -36.4      4.857       5191.0  0  ...          0          0   \n",
       "4          -36.4      4.857       5191.0  0  ...          0          0   \n",
       "\n",
       "   month_mar  month_may  month_nov  month_oct  month_sep  poutcome_failure  \\\n",
       "0          0          1          0          0          0                 0   \n",
       "1          0          1          0          0          0                 0   \n",
       "2          0          1          0          0          0                 0   \n",
       "3          0          1          0          0          0                 0   \n",
       "4          0          1          0          0          0                 0   \n",
       "\n",
       "   poutcome_nonexistent  poutcome_success  \n",
       "0                     1                 0  \n",
       "1                     1                 0  \n",
       "2                     1                 0  \n",
       "3                     1                 0  \n",
       "4                     1                 0  \n",
       "\n",
       "[5 rows x 58 columns]"
      ]
     },
     "execution_count": 26,
     "metadata": {},
     "output_type": "execute_result"
    }
   ],
   "source": [
    "# we use pandas get_dummies() function to covnert categorical variables into numerical features\n",
    "\n",
    "df2 = pd.get_dummies(df2)\n",
    "df2.head()"
   ]
  },
  {
   "cell_type": "markdown",
   "id": "8f2e980b",
   "metadata": {},
   "source": [
    "Post one hot coding, we have a total of 58 columns. This is an acceptable number given the large dataset we currently have."
   ]
  },
  {
   "cell_type": "markdown",
   "id": "d3712a13",
   "metadata": {},
   "source": [
    "### Splitting the dataset into Train, Validation and Test data"
   ]
  },
  {
   "cell_type": "code",
   "execution_count": 27,
   "id": "f4e7209a",
   "metadata": {},
   "outputs": [],
   "source": [
    "features = list(df2.columns)\n",
    "features.remove('y')\n",
    "\n",
    "X = df2[features]\n",
    "y = df2['y']"
   ]
  },
  {
   "cell_type": "markdown",
   "id": "f0cd2603",
   "metadata": {},
   "source": [
    "We split the data into training, validation and test data(60,20,20) ratio and train the models."
   ]
  },
  {
   "cell_type": "code",
   "execution_count": 28,
   "id": "866068b9",
   "metadata": {},
   "outputs": [],
   "source": [
    "from sklearn.model_selection import train_test_split\n",
    "X_train, X_test, y_train, y_test = train_test_split(X,y,test_size = 0.2, random_state = 0)\n",
    "\n",
    "X_train, X_val, y_train, y_val = train_test_split(X_train,y_train,test_size = 0.25, random_state = 0)"
   ]
  },
  {
   "cell_type": "code",
   "execution_count": 29,
   "id": "3457bbcd",
   "metadata": {},
   "outputs": [
    {
     "name": "stdout",
     "output_type": "stream",
     "text": [
      "Training data target variable distribution:\n",
      " 0    0.887302\n",
      "1    0.112698\n",
      "Name: y, dtype: float64\n",
      "Validation data target variable distribution:\n",
      " 0    0.88638\n",
      "1    0.11362\n",
      "Name: y, dtype: float64\n",
      "Test data target variable distribution:\n",
      " 0    0.888444\n",
      "1    0.111556\n",
      "Name: y, dtype: float64\n"
     ]
    }
   ],
   "source": [
    "# To make sure if the any of the dataset is not biased, we check the distribution of target variable in each of them.\n",
    "\n",
    "print('Training data target variable distribution:\\n',y_train.value_counts(normalize=True))\n",
    "print('Validation data target variable distribution:\\n',y_val.value_counts(normalize=True))\n",
    "print('Test data target variable distribution:\\n',y_test.value_counts(normalize=True))"
   ]
  },
  {
   "cell_type": "markdown",
   "id": "a291546c",
   "metadata": {},
   "source": [
    "## Building the prediction models"
   ]
  },
  {
   "cell_type": "markdown",
   "id": "544d0c5a",
   "metadata": {},
   "source": [
    "Let's start building the models with training data and validate them using validation data. Once we finalize on the model, we can evaluate it's performance using test data.\n",
    "\n",
    "Let's start with simple Logistic regression and continue further"
   ]
  },
  {
   "cell_type": "markdown",
   "id": "62d98ec7",
   "metadata": {},
   "source": [
    "## Logistic Regression"
   ]
  },
  {
   "cell_type": "code",
   "execution_count": 30,
   "id": "4875e7f6",
   "metadata": {},
   "outputs": [],
   "source": [
    "from sklearn.linear_model import LogisticRegression\n",
    "\n",
    "logreg = LogisticRegression(max_iter=5000)\n",
    "logreg.fit(X_train, y_train)\n",
    "\n",
    "y_logreg_val_pred = logreg.predict(X_val)"
   ]
  },
  {
   "cell_type": "code",
   "execution_count": 31,
   "id": "069cff0e",
   "metadata": {},
   "outputs": [
    {
     "data": {
      "text/plain": [
       "array([[7199,  103],\n",
       "       [ 732,  204]], dtype=int64)"
      ]
     },
     "execution_count": 31,
     "metadata": {},
     "output_type": "execute_result"
    }
   ],
   "source": [
    "from sklearn import metrics\n",
    "cnf_matrix = metrics.confusion_matrix(y_val, y_logreg_val_pred)\n",
    "cnf_matrix"
   ]
  },
  {
   "cell_type": "code",
   "execution_count": 32,
   "id": "846d9be8",
   "metadata": {},
   "outputs": [
    {
     "name": "stdout",
     "output_type": "stream",
     "text": [
      "Accuracy: 0.8986404467103666\n",
      "Precision: 0.6644951140065146\n",
      "Recall: 0.21794871794871795\n",
      "F1 Score: 0.32823813354786807\n"
     ]
    }
   ],
   "source": [
    "logreg_accuracy = metrics.accuracy_score(y_val, y_logreg_val_pred)\n",
    "logreg_precision = metrics.precision_score(y_val, y_logreg_val_pred)\n",
    "logreg_recall = metrics.recall_score(y_val, y_logreg_val_pred)\n",
    "logreg_f1_score = metrics.f1_score(y_val, y_logreg_val_pred)\n",
    "\n",
    "print(\"Accuracy:\",logreg_accuracy)\n",
    "print(\"Precision:\",logreg_precision)\n",
    "print(\"Recall:\",logreg_recall)\n",
    "print(\"F1 Score:\",logreg_f1_score)\n",
    "comparison_list = []"
   ]
  },
  {
   "cell_type": "code",
   "execution_count": 33,
   "id": "dfa90199",
   "metadata": {},
   "outputs": [
    {
     "data": {
      "image/png": "[encoded data removed]",
      "text/plain": [
       "<Figure size 432x288 with 1 Axes>"
      ]
     },
     "metadata": {
      "needs_background": "light"
     },
     "output_type": "display_data"
    }
   ],
   "source": [
    "y_pred_proba = logreg.predict_proba(X_val)[::,1]\n",
    "fpr, tpr, _ = metrics.roc_curve(y_val,  y_pred_proba)\n",
    "auc = metrics.roc_auc_score(y_val, y_pred_proba)\n",
    "plt.plot(fpr,tpr,label=\"data 1, auc=\"+str(auc))\n",
    "plt.legend(loc=4)\n",
    "plt.title('Logistic Regression Validation AUC')\n",
    "plt.show()\n",
    "\n",
    "comparison_list.append(['Logistic Regression',logreg_accuracy, logreg_precision, logreg_recall, logreg_f1_score, auc])"
   ]
  },
  {
   "cell_type": "code",
   "execution_count": 34,
   "id": "9d721869",
   "metadata": {},
   "outputs": [
    {
     "data": {
      "text/plain": [
       "[('month_may', -0.6349427862952265),\n",
       " ('poutcome_failure', -0.4678260727140938),\n",
       " ('contact_telephone', -0.30912109425455336),\n",
       " ('job_blue-collar', -0.1844546006234727),\n",
       " ('emp.var.rate', -0.1561090415568312),\n",
       " ('default_unknown', -0.12572455111605127),\n",
       " ('euribor3m', -0.11502438775515861),\n",
       " ('job_services', -0.09768978571590221),\n",
       " ('education_basic.9y', -0.07157616018267819),\n",
       " ('month_nov', -0.06604740542197696),\n",
       " ('job_retired', 0.1071396400903045),\n",
       " ('education_university.degree', 0.10972300552240907),\n",
       " ('default_no', 0.12879602612963456),\n",
       " ('month_jun', 0.1384249056931666),\n",
       " ('month_mar', 0.19456174563407055),\n",
       " ('month_jul', 0.24454268726815764),\n",
       " ('contact_cellular', 0.3121925692734647),\n",
       " ('cons.price.idx', 0.3502557173424158),\n",
       " ('poutcome_success', 0.459361792036824),\n",
       " ('pdays', 0.48896956349710347)]"
      ]
     },
     "execution_count": 34,
     "metadata": {},
     "output_type": "execute_result"
    }
   ],
   "source": [
    "coeff = logreg.coef_[0]\n",
    "new_insight = list(zip(features,coeff))\n",
    "new_insight = sorted(new_insight, key=lambda x: x[1])\n",
    "new_insight[:10]+new_insight[-10:]"
   ]
  },
  {
   "cell_type": "markdown",
   "id": "b9e59bcf",
   "metadata": {},
   "source": [
    "### Decision Trees"
   ]
  },
  {
   "cell_type": "code",
   "execution_count": 35,
   "id": "05e80a6f",
   "metadata": {},
   "outputs": [],
   "source": [
    "from sklearn.tree import DecisionTreeClassifier # Import Decision Tree Classifier\n",
    "\n",
    "decision_tree = DecisionTreeClassifier(criterion=\"entropy\", max_depth=7)\n",
    "clf = decision_tree.fit(X_train,y_train)\n",
    "\n",
    "y_dt_val_pred = decision_tree.predict(X_val)"
   ]
  },
  {
   "cell_type": "code",
   "execution_count": 36,
   "id": "a1d2adf5",
   "metadata": {},
   "outputs": [
    {
     "data": {
      "text/plain": [
       "array([[7101,  201],\n",
       "       [ 649,  287]], dtype=int64)"
      ]
     },
     "execution_count": 36,
     "metadata": {},
     "output_type": "execute_result"
    }
   ],
   "source": [
    "cnf_matrix = metrics.confusion_matrix(y_val, y_dt_val_pred)\n",
    "cnf_matrix"
   ]
  },
  {
   "cell_type": "code",
   "execution_count": 37,
   "id": "ae179f9d",
   "metadata": {},
   "outputs": [
    {
     "name": "stdout",
     "output_type": "stream",
     "text": [
      "Accuracy: 0.8968196164117505\n",
      "Precision: 0.5881147540983607\n",
      "Recall: 0.30662393162393164\n",
      "F1 Score: 0.40308988764044945\n"
     ]
    }
   ],
   "source": [
    "dt_accuracy = metrics.accuracy_score(y_val, y_dt_val_pred)\n",
    "dt_precision = metrics.precision_score(y_val, y_dt_val_pred)\n",
    "dt_recall = metrics.recall_score(y_val, y_dt_val_pred)\n",
    "dt_f1_score = metrics.f1_score(y_val, y_dt_val_pred)\n",
    "\n",
    "print(\"Accuracy:\",dt_accuracy)\n",
    "print(\"Precision:\",dt_precision)\n",
    "print(\"Recall:\",dt_recall)\n",
    "print(\"F1 Score:\",dt_f1_score)\n"
   ]
  },
  {
   "cell_type": "code",
   "execution_count": 38,
   "id": "a03ec8b9",
   "metadata": {},
   "outputs": [
    {
     "data": {
      "image/png": "[encoded data removed]",
      "text/plain": [
       "<Figure size 432x288 with 1 Axes>"
      ]
     },
     "metadata": {
      "needs_background": "light"
     },
     "output_type": "display_data"
    }
   ],
   "source": [
    "y_pred_proba = decision_tree.predict_proba(X_val)[::,1]\n",
    "fpr, tpr, _ = metrics.roc_curve(y_val,  y_pred_proba)\n",
    "auc = metrics.roc_auc_score(y_val, y_pred_proba)\n",
    "plt.plot(fpr,tpr,label=\"data 1, auc=\"+str(auc))\n",
    "plt.legend(loc=4)\n",
    "plt.title('Decision Tree Validation AUC')\n",
    "plt.show()\n",
    "comparison_list.append(['Decision Trees',dt_accuracy, dt_precision, dt_recall, dt_f1_score, auc])"
   ]
  },
  {
   "cell_type": "code",
   "execution_count": 39,
   "id": "f74c1706",
   "metadata": {},
   "outputs": [
    {
     "data": {
      "text/plain": [
       "nr.employed             0.611375\n",
       "euribor3m               0.089986\n",
       "cons.conf.idx           0.088597\n",
       "pdays                   0.075626\n",
       "month_oct               0.026076\n",
       "campaign                0.016796\n",
       "poutcome_nonexistent    0.011533\n",
       "contact_telephone       0.007743\n",
       "job_retired             0.007515\n",
       "age                     0.005634\n",
       "dtype: float64"
      ]
     },
     "execution_count": 39,
     "metadata": {},
     "output_type": "execute_result"
    }
   ],
   "source": [
    "dt_feature_imp = pd.Series(decision_tree.feature_importances_,index=features).sort_values(ascending=False)\n",
    "dt_feature_imp[:10]"
   ]
  },
  {
   "cell_type": "markdown",
   "id": "9bf60519",
   "metadata": {},
   "source": [
    "### Random Forests"
   ]
  },
  {
   "cell_type": "code",
   "execution_count": 40,
   "id": "5d149e4a",
   "metadata": {},
   "outputs": [],
   "source": [
    "from sklearn.ensemble import RandomForestClassifier\n",
    "random_forest = RandomForestClassifier(criterion='entropy',n_estimators=250)\n",
    "\n",
    "random_forest.fit(X_train,y_train)\n",
    "\n",
    "y_rf_val_pred=random_forest.predict(X_val)"
   ]
  },
  {
   "cell_type": "code",
   "execution_count": 41,
   "id": "aa44c5d8",
   "metadata": {},
   "outputs": [
    {
     "data": {
      "text/plain": [
       "array([[7049,  253],\n",
       "       [ 661,  275]], dtype=int64)"
      ]
     },
     "execution_count": 41,
     "metadata": {},
     "output_type": "execute_result"
    }
   ],
   "source": [
    "cnf_matrix = metrics.confusion_matrix(y_val, y_rf_val_pred)\n",
    "cnf_matrix"
   ]
  },
  {
   "cell_type": "code",
   "execution_count": 42,
   "id": "941c0ccb",
   "metadata": {},
   "outputs": [
    {
     "name": "stdout",
     "output_type": "stream",
     "text": [
      "Accuracy: 0.8890507404709881\n",
      "Precision: 0.5208333333333334\n",
      "Recall: 0.2938034188034188\n",
      "F1 Score: 0.3756830601092897\n"
     ]
    }
   ],
   "source": [
    "rf_accuracy = metrics.accuracy_score(y_val, y_rf_val_pred)\n",
    "rf_precision = metrics.precision_score(y_val, y_rf_val_pred)\n",
    "rf_recall = metrics.recall_score(y_val, y_rf_val_pred)\n",
    "rf_f1_score = metrics.f1_score(y_val, y_rf_val_pred)\n",
    "\n",
    "print(\"Accuracy:\",rf_accuracy)\n",
    "print(\"Precision:\",rf_precision)\n",
    "print(\"Recall:\",rf_recall)\n",
    "print(\"F1 Score:\",rf_f1_score)\n"
   ]
  },
  {
   "cell_type": "code",
   "execution_count": 43,
   "id": "4234e406",
   "metadata": {
    "scrolled": true
   },
   "outputs": [
    {
     "data": {
      "image/png": "[encoded data removed]",
      "text/plain": [
       "<Figure size 432x288 with 1 Axes>"
      ]
     },
     "metadata": {
      "needs_background": "light"
     },
     "output_type": "display_data"
    }
   ],
   "source": [
    "y_pred_proba = random_forest.predict_proba(X_val)[::,1]\n",
    "fpr, tpr, _ = metrics.roc_curve(y_val,  y_pred_proba)\n",
    "auc = metrics.roc_auc_score(y_val, y_pred_proba)\n",
    "plt.plot(fpr,tpr,label=\"data 1, auc=\"+str(auc))\n",
    "plt.legend(loc=4)\n",
    "plt.title('Random Forest Test AUC')\n",
    "plt.show()\n",
    "\n",
    "comparison_list.append(['Random Forests',rf_accuracy, rf_precision, rf_recall, rf_f1_score, auc])"
   ]
  },
  {
   "cell_type": "code",
   "execution_count": 44,
   "id": "bf4e36c8",
   "metadata": {},
   "outputs": [
    {
     "data": {
      "text/plain": [
       "euribor3m         0.190800\n",
       "campaign          0.108880\n",
       "age               0.057245\n",
       "nr.employed       0.051197\n",
       "cons.price.idx    0.039512\n",
       "emp.var.rate      0.030528\n",
       "cons.conf.idx     0.029573\n",
       "pdays             0.023600\n",
       "housing_no        0.022014\n",
       "housing_yes       0.021869\n",
       "dtype: float64"
      ]
     },
     "execution_count": 44,
     "metadata": {},
     "output_type": "execute_result"
    }
   ],
   "source": [
    "rf_feature_imp = pd.Series(random_forest.feature_importances_,index=features).sort_values(ascending=False)\n",
    "rf_feature_imp[:10]\n"
   ]
  },
  {
   "cell_type": "markdown",
   "id": "d9a023a9",
   "metadata": {},
   "source": [
    "### XG Boosting Classifier"
   ]
  },
  {
   "cell_type": "code",
   "execution_count": 45,
   "id": "bae89946",
   "metadata": {},
   "outputs": [
    {
     "name": "stderr",
     "output_type": "stream",
     "text": [
      "D:\\Setupfiles\\anaconda\\lib\\site-packages\\xgboost\\sklearn.py:1224: UserWarning: The use of label encoder in XGBClassifier is deprecated and will be removed in a future release. To remove this warning, do the following: 1) Pass option use_label_encoder=False when constructing XGBClassifier object; and 2) Encode your labels (y) as integers starting with 0, i.e. 0, 1, 2, ..., [num_class - 1].\n",
      "  warnings.warn(label_encoder_deprecation_msg, UserWarning)\n"
     ]
    },
    {
     "name": "stdout",
     "output_type": "stream",
     "text": [
      "[05:04:36] WARNING: C:/Users/Administrator/workspace/xgboost-win64_release_1.5.1/src/learner.cc:1115: Starting in XGBoost 1.3.0, the default evaluation metric used with the objective 'binary:logistic' was changed from 'error' to 'logloss'. Explicitly set eval_metric if you'd like to restore the old behavior.\n"
     ]
    }
   ],
   "source": [
    "from xgboost import XGBClassifier\n",
    "xgb = XGBClassifier(n_estimators=200)\n",
    "\n",
    "xgb.fit(X_train,y_train)\n",
    "\n",
    "y_xgb_val_pred=random_forest.predict(X_val)"
   ]
  },
  {
   "cell_type": "code",
   "execution_count": 46,
   "id": "c3e37480",
   "metadata": {},
   "outputs": [
    {
     "name": "stdout",
     "output_type": "stream",
     "text": [
      "Accuracy: 0.8890507404709881\n",
      "Precision: 0.5208333333333334\n",
      "Recall: 0.2938034188034188\n",
      "F1 Score: 0.3756830601092897\n"
     ]
    }
   ],
   "source": [
    "xgb_accuracy = metrics.accuracy_score(y_val, y_xgb_val_pred)\n",
    "xgb_precision = metrics.precision_score(y_val, y_xgb_val_pred)\n",
    "xgb_recall = metrics.recall_score(y_val, y_xgb_val_pred)\n",
    "xgb_f1_score = metrics.f1_score(y_val, y_xgb_val_pred)\n",
    "\n",
    "print(\"Accuracy:\",xgb_accuracy)\n",
    "print(\"Precision:\",xgb_precision)\n",
    "print(\"Recall:\",xgb_recall)\n",
    "print(\"F1 Score:\",xgb_f1_score)\n"
   ]
  },
  {
   "cell_type": "code",
   "execution_count": 47,
   "id": "38bc9416",
   "metadata": {},
   "outputs": [
    {
     "data": {
      "image/png": "[encoded data removed]",
      "text/plain": [
       "<Figure size 432x288 with 1 Axes>"
      ]
     },
     "metadata": {
      "needs_background": "light"
     },
     "output_type": "display_data"
    }
   ],
   "source": [
    "y_pred_proba = xgb.predict_proba(X_val)[::,1]\n",
    "fpr, tpr, _ = metrics.roc_curve(y_val,  y_pred_proba)\n",
    "auc = metrics.roc_auc_score(y_val, y_pred_proba)\n",
    "plt.plot(fpr,tpr,label=\"data 1, auc=\"+str(auc))\n",
    "plt.legend(loc=4)\n",
    "plt.title('XGBoosting Validation AUC')\n",
    "plt.show()\n",
    "\n",
    "comparison_list.append(['XGBoosting',xgb_accuracy, xgb_precision, xgb_recall, xgb_f1_score, auc])"
   ]
  },
  {
   "cell_type": "markdown",
   "id": "b569bdfd",
   "metadata": {},
   "source": [
    "### Model comparison"
   ]
  },
  {
   "cell_type": "code",
   "execution_count": 48,
   "id": "bce5982f",
   "metadata": {},
   "outputs": [
    {
     "data": {
      "text/html": [
       "<style  type=\"text/css\" >\n",
       "</style><table id=\"T_68028_\" ><caption>Validation Results</caption><thead>    <tr>        <th class=\"blank level0\" ></th>        <th class=\"col_heading level0 col0\" >Model</th>        <th class=\"col_heading level0 col1\" >Accuracy</th>        <th class=\"col_heading level0 col2\" >Precision</th>        <th class=\"col_heading level0 col3\" >Recall</th>        <th class=\"col_heading level0 col4\" >F1 Score</th>        <th class=\"col_heading level0 col5\" >AUC</th>    </tr></thead><tbody>\n",
       "                <tr>\n",
       "                        <th id=\"T_68028_level0_row0\" class=\"row_heading level0 row0\" >0</th>\n",
       "                        <td id=\"T_68028_row0_col0\" class=\"data row0 col0\" >Logistic Regression</td>\n",
       "                        <td id=\"T_68028_row0_col1\" class=\"data row0 col1\" >0.898640</td>\n",
       "                        <td id=\"T_68028_row0_col2\" class=\"data row0 col2\" >0.664495</td>\n",
       "                        <td id=\"T_68028_row0_col3\" class=\"data row0 col3\" >0.217949</td>\n",
       "                        <td id=\"T_68028_row0_col4\" class=\"data row0 col4\" >0.328238</td>\n",
       "                        <td id=\"T_68028_row0_col5\" class=\"data row0 col5\" >0.789722</td>\n",
       "            </tr>\n",
       "            <tr>\n",
       "                        <th id=\"T_68028_level0_row1\" class=\"row_heading level0 row1\" >1</th>\n",
       "                        <td id=\"T_68028_row1_col0\" class=\"data row1 col0\" >Decision Trees</td>\n",
       "                        <td id=\"T_68028_row1_col1\" class=\"data row1 col1\" >0.896820</td>\n",
       "                        <td id=\"T_68028_row1_col2\" class=\"data row1 col2\" >0.588115</td>\n",
       "                        <td id=\"T_68028_row1_col3\" class=\"data row1 col3\" >0.306624</td>\n",
       "                        <td id=\"T_68028_row1_col4\" class=\"data row1 col4\" >0.403090</td>\n",
       "                        <td id=\"T_68028_row1_col5\" class=\"data row1 col5\" >0.773889</td>\n",
       "            </tr>\n",
       "            <tr>\n",
       "                        <th id=\"T_68028_level0_row2\" class=\"row_heading level0 row2\" >2</th>\n",
       "                        <td id=\"T_68028_row2_col0\" class=\"data row2 col0\" >Random Forests</td>\n",
       "                        <td id=\"T_68028_row2_col1\" class=\"data row2 col1\" >0.889051</td>\n",
       "                        <td id=\"T_68028_row2_col2\" class=\"data row2 col2\" >0.520833</td>\n",
       "                        <td id=\"T_68028_row2_col3\" class=\"data row2 col3\" >0.293803</td>\n",
       "                        <td id=\"T_68028_row2_col4\" class=\"data row2 col4\" >0.375683</td>\n",
       "                        <td id=\"T_68028_row2_col5\" class=\"data row2 col5\" >0.762322</td>\n",
       "            </tr>\n",
       "            <tr>\n",
       "                        <th id=\"T_68028_level0_row3\" class=\"row_heading level0 row3\" >3</th>\n",
       "                        <td id=\"T_68028_row3_col0\" class=\"data row3 col0\" >XGBoosting</td>\n",
       "                        <td id=\"T_68028_row3_col1\" class=\"data row3 col1\" >0.889051</td>\n",
       "                        <td id=\"T_68028_row3_col2\" class=\"data row3 col2\" >0.520833</td>\n",
       "                        <td id=\"T_68028_row3_col3\" class=\"data row3 col3\" >0.293803</td>\n",
       "                        <td id=\"T_68028_row3_col4\" class=\"data row3 col4\" >0.375683</td>\n",
       "                        <td id=\"T_68028_row3_col5\" class=\"data row3 col5\" >0.757768</td>\n",
       "            </tr>\n",
       "    </tbody></table>"
      ],
      "text/plain": [
       "<pandas.io.formats.style.Styler at 0x2cc9bf440a0>"
      ]
     },
     "execution_count": 48,
     "metadata": {},
     "output_type": "execute_result"
    }
   ],
   "source": [
    "new_df = pd.DataFrame(comparison_list, columns = ['Model', 'Accuracy', 'Precision', 'Recall', 'F1 Score', 'AUC'])\n",
    "round(new_df,3)\n",
    "new_df.style.set_caption(\"Validation Results\")\n"
   ]
  },
  {
   "cell_type": "markdown",
   "id": "85af0a24",
   "metadata": {},
   "source": [
    "As seen from the above dataframe, all the models have similar performance. We cannot take accuracy as our primary performance\n",
    "metric since our dataset is skewed from the beginning.\n",
    "\n",
    "So we will consider both F1 score and AUC as our primary performance metrics. Based on these parameters, Decision Trees has\n",
    "marginally outperformed the other models."
   ]
  },
  {
   "cell_type": "markdown",
   "id": "abcdd7d0",
   "metadata": {},
   "source": [
    "## Evaluating on Test data"
   ]
  },
  {
   "cell_type": "code",
   "execution_count": 49,
   "id": "e954ce58",
   "metadata": {},
   "outputs": [],
   "source": [
    "y_logreg_test_pred = logreg.predict(X_test)\n",
    "y_dt_test_pred = decision_tree.predict(X_test)\n"
   ]
  },
  {
   "cell_type": "code",
   "execution_count": 50,
   "id": "c12863ea",
   "metadata": {},
   "outputs": [
    {
     "name": "stdout",
     "output_type": "stream",
     "text": [
      "Logistic Regression \n",
      "\n",
      "Accuracy: 0.9002184996358339\n",
      "Precision: 0.6549520766773163\n",
      "Recall: 0.22306855277475518\n",
      "F1 Score: 0.33279220779220786\n",
      "\n",
      " Decision Trees \n",
      "\n",
      "Accuracy: 0.9016751638747269\n",
      "Precision: 0.6162046908315565\n",
      "Recall: 0.3144722524483134\n",
      "F1 Score: 0.41642651296829974\n"
     ]
    }
   ],
   "source": [
    "print(\"Logistic Regression \\n\")\n",
    "print(\"Accuracy:\",metrics.accuracy_score(y_test, y_logreg_test_pred))\n",
    "print(\"Precision:\",metrics.precision_score(y_test, y_logreg_test_pred))\n",
    "print(\"Recall:\",metrics.recall_score(y_test, y_logreg_test_pred))\n",
    "print(\"F1 Score:\",metrics.f1_score(y_test, y_logreg_test_pred))\n",
    "\n",
    "print(\"\\n Decision Trees \\n\")\n",
    "print(\"Accuracy:\",metrics.accuracy_score(y_test, y_dt_test_pred))\n",
    "print(\"Precision:\",metrics.precision_score(y_test, y_dt_test_pred))\n",
    "print(\"Recall:\",metrics.recall_score(y_test, y_dt_test_pred))\n",
    "print(\"F1 Score:\",metrics.f1_score(y_test, y_dt_test_pred))\n"
   ]
  },
  {
   "cell_type": "code",
   "execution_count": 51,
   "id": "3440cfa3",
   "metadata": {},
   "outputs": [
    {
     "data": {
      "image/png": "[encoded data removed]",
      "text/plain": [
       "<Figure size 432x288 with 1 Axes>"
      ]
     },
     "metadata": {
      "needs_background": "light"
     },
     "output_type": "display_data"
    }
   ],
   "source": [
    "y_pred_proba = logreg.predict_proba(X_test)[::,1]\n",
    "fpr, tpr, _ = metrics.roc_curve(y_test,  y_pred_proba)\n",
    "auc = metrics.roc_auc_score(y_test, y_pred_proba)\n",
    "plt.plot(fpr,tpr,label=\"data 1, auc=\"+str(auc))\n",
    "plt.title('Logistic Regression Test AUC')\n",
    "plt.legend(loc=4)\n",
    "plt.show()\n"
   ]
  },
  {
   "cell_type": "code",
   "execution_count": 52,
   "id": "378345fd",
   "metadata": {},
   "outputs": [
    {
     "data": {
      "image/png": "[encoded data removed]",
      "text/plain": [
       "<Figure size 432x288 with 1 Axes>"
      ]
     },
     "metadata": {
      "needs_background": "light"
     },
     "output_type": "display_data"
    }
   ],
   "source": [
    "y_pred_proba = decision_tree.predict_proba(X_test)[::,1]\n",
    "fpr, tpr, _ = metrics.roc_curve(y_test,  y_pred_proba)\n",
    "auc = metrics.roc_auc_score(y_test, y_pred_proba)\n",
    "plt.plot(fpr,tpr,label=\"data 1, auc=\"+str(auc))\n",
    "plt.legend(loc=4)\n",
    "plt.title('Decision Tree Test AUC')\n",
    "plt.show()\n"
   ]
  },
  {
   "cell_type": "code",
   "execution_count": null,
   "id": "b48f1b8a",
   "metadata": {},
   "outputs": [],
   "source": [
    "\n"
   ]
  },
  {
   "cell_type": "markdown",
   "id": "25da5950",
   "metadata": {},
   "source": [
    "From the final models, we found that all tree based models are performing similarly with a marginal advantage to Decision Trees. From the feature importance of both decision tree and random forest, we can pick that features such as \"euribor3m\", \"nr_employed\",\"age\" and \"cons.price.idx\" are vital in making a decision about the subscriptions. So for the next campaigns, we can try and ensure these parameters are in the correct levels(low euribor3m and high cons.price.idx)\n",
    "\n",
    "Based on the EDA, we understood there are certain group of people whose subscription rate is larger than others. These include people with age above 50, retired people and people having personal loans are more interested in subscriptions. Hence, we can focus on such groups to increase the number of subscriptions.\n"
   ]
  },
  {
   "cell_type": "markdown",
   "id": "9f41b366",
   "metadata": {},
   "source": [
    "If we were to ask for more details, we can request for personalized economic indicators such as recent credit score. Since credit scores reflect the financial stability of a customer, that can be really helpful in predicting the term product subscription. "
   ]
  }
 ],
 "metadata": {
  "kernelspec": {
   "display_name": "Python 3",
   "language": "python",
   "name": "python3"
  },
  "language_info": {
   "codemirror_mode": {
    "name": "ipython",
    "version": 3
   },
   "file_extension": ".py",
   "mimetype": "text/x-python",
   "name": "python",
   "nbconvert_exporter": "python",
   "pygments_lexer": "ipython3",
   "version": "3.8.8"
  }
 },
 "nbformat": 4,
 "nbformat_minor": 5
}
